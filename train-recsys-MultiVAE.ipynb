{
 "cells": [
  {
   "metadata": {
    "ExecuteTime": {
     "end_time": "2025-03-07T01:16:13.243684Z",
     "start_time": "2025-03-07T01:16:13.234255Z"
    }
   },
   "cell_type": "code",
   "source": [
    "import sys\n",
    "sys.path.append('/mnt/nas/minici/UrbRecLoop')\n"
   ],
   "id": "9d9a40098f2f36ba",
   "outputs": [],
   "execution_count": 1
  },
  {
   "metadata": {
    "collapsed": true,
    "ExecuteTime": {
     "end_time": "2025-03-07T01:16:17.143706Z",
     "start_time": "2025-03-07T01:16:13.542535Z"
    }
   },
   "cell_type": "code",
   "source": [
    "from model.recommender3 import MultiVAE, MatrixFactorization\n",
    "from model import user\n",
    "from datetime import timedelta\n",
    "import glob\n",
    "import tqdm\n",
    "import os\n",
    "import pandas as pd\n",
    "import numpy as np\n",
    "\n",
    "def filtering_training_data(training_dataset, min_activity):\n",
    "    # Count the number of rows per user\n",
    "    user_counts = training_dataset['uid'].value_counts()\n",
    "    # Get the users with at least x rows\n",
    "    valid_users = user_counts[user_counts >= min_activity].index\n",
    "    # Filter the DataFrame to include only valid users\n",
    "    filtered_dataset = training_dataset[training_dataset['uid'].isin(valid_users)]\n",
    "    return filtered_dataset\n",
    "\n",
    "def create_interaction_matrix(data):\n",
    "    interaction_counts = data.groupby(['uid', 'venueID']).size().reset_index(name='counts')\n",
    "    interaction_matrix = interaction_counts.pivot(index='uid', columns='venueID', values='counts').fillna(0)\n",
    "    return interaction_matrix\n",
    "\n",
    "\n",
    "def calculate_metrics(recommended_venues, real_visited_venues):\n",
    "    recommended_venues = list(recommended_venues)\n",
    "    real_visited_venues = set(real_visited_venues)\n",
    "\n",
    "    # Calculate hits\n",
    "    hits = [1 if venue in real_visited_venues else 0 for venue in recommended_venues]\n",
    "\n",
    "    # Precision\n",
    "    precision = sum(hits) / len(recommended_venues) if recommended_venues else 0\n",
    "\n",
    "    # Recall\n",
    "    recall = sum(hits) / len(real_visited_venues) if real_visited_venues else 0\n",
    "\n",
    "    # NDCG\n",
    "    dcg = 0\n",
    "    idcg = 0\n",
    "    for i, hit in enumerate(hits, 1):\n",
    "        if hit:\n",
    "            dcg += 1 / np.log2(i + 1)\n",
    "    for i in range(1, len(real_visited_venues) + 1):\n",
    "        idcg += 1 / np.log2(i + 1)\n",
    "    ndcg = dcg / idcg if idcg > 0 else 0\n",
    "\n",
    "    # MRR\n",
    "    mrr = 0\n",
    "    for i, hit in enumerate(hits, 1):\n",
    "        if hit:\n",
    "            mrr = 1 / i\n",
    "            break\n",
    "\n",
    "    # Hit Rate\n",
    "    hit_rate = 1 if any(hits) else 0\n",
    "\n",
    "    return {\n",
    "        'ndcg': ndcg,\n",
    "        'precision': precision,\n",
    "        'recall': recall,\n",
    "        'mrr': mrr,\n",
    "        'hitrate': hit_rate\n",
    "    }\n"
   ],
   "id": "initial_id",
   "outputs": [],
   "execution_count": 2
  },
  {
   "metadata": {
    "ExecuteTime": {
     "end_time": "2025-03-07T01:16:39.133902Z",
     "start_time": "2025-03-07T01:16:39.129016Z"
    }
   },
   "cell_type": "code",
   "source": [
    "# DATASET HYPER-PARAMETERS #\n",
    "city = \"nyc\"\n",
    "city_files = glob.glob('*_visits.csv')\n",
    "data_file = f\"../data/processed/foursquare_complete_{city}_cp_small.csv\"\n",
    "train_window = 60  # Training window in days\n",
    "k_days = 7  # Epoch length in days\n",
    "threshold = 100  # Performance degradation threshold (adjust as needed)\n",
    "max_simulation_days = 90  # Maximum number of simulation days\n",
    "min_activity = 5  \n",
    "topK = 20\n",
    "\n",
    "# RECSYS HYPER-PARAMETERS #\n",
    "# MF\n",
    "num_latent_factors = 32\n",
    "# UserKNN\n",
    "num_nearest_neighbors = 5\n"
   ],
   "id": "2fb38147296eb9a4",
   "outputs": [],
   "execution_count": 5
  },
  {
   "metadata": {
    "ExecuteTime": {
     "end_time": "2025-03-07T01:18:58.612524Z",
     "start_time": "2025-03-07T01:18:58.351519Z"
    }
   },
   "cell_type": "code",
   "source": [
    "# DATA LOADING\n",
    "dataset = pd.read_csv(data_file)\n",
    "print(f'Dataset has {len(dataset)} records.')\n",
    "dataset['time'] = pd.to_datetime(dataset['time'])\n",
    "dataset['uid'] = dataset['uid'].astype(int)\n",
    "dataset['venueID'] = dataset['venueID'].astype(str)\n",
    "#drop duplicates\n",
    "dataset = dataset.drop_duplicates()\n",
    "# self.city_name = os.path.basename(data_file).split('_')[0]\n",
    "print(f'Dataset has {len(dataset)} records after removing duplicates.')\n",
    "# Set training period\n",
    "start_date = dataset['time'].min()\n",
    "training_duration = timedelta(days=train_window)\n",
    "t = start_date + training_duration\n",
    "# Training data\n",
    "train_data = dataset[dataset['time'] < t]\n",
    "# Filtering out users with few interactions (visited less than X POIs)\n",
    "train_data = filtering_training_data(train_data, min_activity)\n",
    "# Simulation data==Test data\n",
    "test_data = dataset[dataset['time'] >= t]\n",
    "# Excluding users not present in the training dataset\n",
    "test_data = test_data[test_data['uid'].isin(train_data['uid'].unique())]\n",
    "test_data = test_data[test_data['venueID'].isin(train_data['venueID'].unique())]\n",
    "# Prepare interaction matrix\n",
    "X_train = create_interaction_matrix(train_data)\n"
   ],
   "id": "f06d4f68223168f5",
   "outputs": [
    {
     "name": "stdout",
     "output_type": "stream",
     "text": [
      "Dataset has 50000 records.\n",
      "Dataset has 49950 records after removing duplicates.\n"
     ]
    }
   ],
   "execution_count": 11
  },
  {
   "metadata": {
    "ExecuteTime": {
     "end_time": "2025-03-07T01:35:00.740558Z",
     "start_time": "2025-03-07T01:35:00.731193Z"
    }
   },
   "cell_type": "code",
   "source": [
    "from model.recommender3 import MultiVAE, VAE\n",
    "import torch\n",
    "import torch.nn.functional as F\n",
    "\n",
    "def loss_function(recon_x, x, mu, logvar):\n",
    "    # Using binary cross-entropy as reconstruction loss\n",
    "    BCE = F.binary_cross_entropy(recon_x, x, reduction='sum')\n",
    "    # KL divergence\n",
    "    KLD = -0.5 * torch.sum(1 + logvar - mu.pow(2) - logvar.exp())\n",
    "    return BCE + KLD, BCE, KLD\n",
    "recommender = MultiVAE(300, 128, dropout=0.25, epochs=50, lr=0.001, patience=5, device='cpu')\n"
   ],
   "id": "57397f0211a756c",
   "outputs": [],
   "execution_count": 41
  },
  {
   "metadata": {
    "ExecuteTime": {
     "end_time": "2025-03-07T01:35:01.262467Z",
     "start_time": "2025-03-07T01:35:01.200287Z"
    }
   },
   "cell_type": "code",
   "source": [
    "# Map users and items to indices\n",
    "recommender.user_index = {user: idx for idx, user in enumerate(X_train.index)}\n",
    "recommender.item_index = {item: idx for idx, item in enumerate(X_train.columns)}\n",
    "\n",
    "# Fill missing values and convert the DataFrame to a numpy array.\n",
    "data_matrix = X_train.fillna(0).values.astype(np.float32)\n",
    "data_matrix[data_matrix > 0] = 1.0\n",
    "recommender.user_item_matrix = torch.FloatTensor(data_matrix).to(recommender.device)\n",
    "\n",
    "input_dim = recommender.user_item_matrix.shape[1]\n",
    "\n",
    "# Initialize the VAE model and optimizer\n",
    "recommender.model = VAE(input_dim, recommender.hidden_dim, recommender.latent_dim, recommender.dropout).to(recommender.device)\n",
    "recommender.optimizer = torch.optim.Adam(recommender.model.parameters(), lr=recommender.lr)\n",
    "\n",
    "recommender.model.train()\n",
    "\n",
    "best_loss = float('inf')\n",
    "epochs_without_improvement = 0\n"
   ],
   "id": "de5de0abeadd5393",
   "outputs": [],
   "execution_count": 42
  },
  {
   "metadata": {
    "ExecuteTime": {
     "end_time": "2025-03-07T01:35:07.959155Z",
     "start_time": "2025-03-07T01:35:07.244184Z"
    }
   },
   "cell_type": "code",
   "source": [
    "loss_list=list()\n",
    "bce_loss_list=list()\n",
    "kld_div_list=list()\n",
    "for epoch in range(recommender.epochs):\n",
    "    recommender.optimizer.zero_grad()\n",
    "    recon_batch, mu, logvar = recommender.model(recommender.user_item_matrix)\n",
    "    loss, bce_loss, kld_div = loss_function(recon_batch, recommender.user_item_matrix, mu, logvar)\n",
    "    loss.backward()\n",
    "    recommender.optimizer.step()\n",
    "    loss_list.append(loss.item())\n",
    "    bce_loss_list.append(bce_loss.item())\n",
    "    kld_div_list.append(kld_div.item())\n",
    "\n",
    "    # Check for improvement\n",
    "    if loss.item() < best_loss:\n",
    "        best_loss = loss.item()\n",
    "        epochs_without_improvement = 0\n",
    "    else:\n",
    "        epochs_without_improvement += 1\n",
    "\n",
    "    # Optionally print loss information\n",
    "    # print(f\"Epoch {epoch+1}/{self.epochs}, Loss: {loss.item():.2f}\")\n",
    "\n",
    "    # Early stopping condition\n",
    "    if epochs_without_improvement >= recommender.patience:\n",
    "        # Optionally print early stopping message\n",
    "        # print(f\"Stopping early at epoch {epoch+1} with best loss {best_loss:.2f}\")\n",
    "        break\n",
    "\n"
   ],
   "id": "e29d6171048d658c",
   "outputs": [],
   "execution_count": 43
  },
  {
   "metadata": {
    "ExecuteTime": {
     "end_time": "2025-03-07T01:35:08.709864Z",
     "start_time": "2025-03-07T01:35:08.526350Z"
    }
   },
   "cell_type": "code",
   "source": [
    "import matplotlib.pyplot as plt\n",
    "plt.plot(loss_list)\n",
    "plt.plot(bce_loss_list, label='bce_loss')\n",
    "plt.plot(kld_div_list, label='kld_div')\n",
    "plt.legend()\n"
   ],
   "id": "7f6c2e43e9615f23",
   "outputs": [
    {
     "data": {
      "text/plain": [
       "<matplotlib.legend.Legend at 0x7fdb1d47edd0>"
      ]
     },
     "execution_count": 44,
     "metadata": {},
     "output_type": "execute_result"
    },
    {
     "data": {
      "text/plain": [
       "<Figure size 640x480 with 1 Axes>"
      ],
      "image/png": "[encoded data removed]"
     },
     "metadata": {},
     "output_type": "display_data"
    }
   ],
   "execution_count": 44
  },
  {
   "metadata": {},
   "cell_type": "code",
   "outputs": [],
   "execution_count": null,
   "source": "",
   "id": "9e76900484a7fd8d"
  }
 ],
 "metadata": {
  "kernelspec": {
   "display_name": "Python 3",
   "language": "python",
   "name": "python3"
  },
  "language_info": {
   "codemirror_mode": {
    "name": "ipython",
    "version": 2
   },
   "file_extension": ".py",
   "mimetype": "text/x-python",
   "name": "python",
   "nbconvert_exporter": "python",
   "pygments_lexer": "ipython2",
   "version": "2.7.6"
  }
 },
 "nbformat": 4,
 "nbformat_minor": 5
}
