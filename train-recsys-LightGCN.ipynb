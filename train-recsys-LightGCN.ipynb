{
 "cells": [
  {
   "metadata": {
    "ExecuteTime": {
     "end_time": "2025-03-21T12:15:55.840915Z",
     "start_time": "2025-03-21T12:15:55.827778Z"
    }
   },
   "cell_type": "code",
   "source": [
    "import sys\n",
    "sys.path.append('/mnt/nas/minici/UrbRecLoop')\n"
   ],
   "id": "9d9a40098f2f36ba",
   "outputs": [],
   "execution_count": 1
  },
  {
   "metadata": {
    "ExecuteTime": {
     "end_time": "2025-03-21T12:15:55.967189Z",
     "start_time": "2025-03-21T12:15:55.959460Z"
    }
   },
   "cell_type": "code",
   "source": "%cd /mnt/nas/minici/UrbRecLoop",
   "id": "f0291105796baa24",
   "outputs": [
    {
     "name": "stdout",
     "output_type": "stream",
     "text": [
      "/mnt/nas/minici/UrbRecLoop\n"
     ]
    },
    {
     "name": "stderr",
     "output_type": "stream",
     "text": [
      "/home/minici/anaconda3/envs/frasson/lib/python3.10/site-packages/IPython/core/magics/osm.py:417: UserWarning: This is now an optional IPython functionality, setting dhist requires you to install the `pickleshare` library.\n",
      "  self.shell.db['dhist'] = compress_dhist(dhist)[-100:]\n"
     ]
    }
   ],
   "execution_count": 2
  },
  {
   "metadata": {
    "collapsed": true,
    "ExecuteTime": {
     "end_time": "2025-03-21T12:20:39.910798Z",
     "start_time": "2025-03-21T12:20:37.274479Z"
    }
   },
   "cell_type": "code",
   "source": [
    "from model.recommender3 import MultiVAE, MatrixFactorization\n",
    "from model import user\n",
    "from datetime import timedelta\n",
    "import glob\n",
    "import tqdm\n",
    "import os\n",
    "import pandas as pd\n",
    "import numpy as np\n",
    "\n",
    "def filtering_training_data(training_dataset, min_activity):\n",
    "    # Count the number of rows per user\n",
    "    user_counts = training_dataset['uid'].value_counts()\n",
    "    # Get the users with at least x rows\n",
    "    valid_users = user_counts[user_counts >= min_activity].index\n",
    "    # Filter the DataFrame to include only valid users\n",
    "    filtered_dataset = training_dataset[training_dataset['uid'].isin(valid_users)]\n",
    "    return filtered_dataset\n",
    "\n",
    "def create_interaction_matrix(data):\n",
    "    interaction_counts = data.groupby(['uid', 'venueID']).size().reset_index(name='counts')\n",
    "    interaction_matrix = interaction_counts.pivot(index='uid', columns='venueID', values='counts').fillna(0)\n",
    "    return interaction_matrix\n",
    "\n",
    "\n",
    "def calculate_metrics(recommended_venues, real_visited_venues):\n",
    "    recommended_venues = list(recommended_venues)\n",
    "    real_visited_venues = set(real_visited_venues)\n",
    "\n",
    "    # Calculate hits\n",
    "    hits = [1 if venue in real_visited_venues else 0 for venue in recommended_venues]\n",
    "\n",
    "    # Precision\n",
    "    precision = sum(hits) / len(recommended_venues) if recommended_venues else 0\n",
    "\n",
    "    # Recall\n",
    "    recall = sum(hits) / len(real_visited_venues) if real_visited_venues else 0\n",
    "\n",
    "    # NDCG\n",
    "    dcg = 0\n",
    "    idcg = 0\n",
    "    for i, hit in enumerate(hits, 1):\n",
    "        if hit:\n",
    "            dcg += 1 / np.log2(i + 1)\n",
    "    for i in range(1, len(real_visited_venues) + 1):\n",
    "        idcg += 1 / np.log2(i + 1)\n",
    "    ndcg = dcg / idcg if idcg > 0 else 0\n",
    "\n",
    "    # MRR\n",
    "    mrr = 0\n",
    "    for i, hit in enumerate(hits, 1):\n",
    "        if hit:\n",
    "            mrr = 1 / i\n",
    "            break\n",
    "\n",
    "    # Hit Rate\n",
    "    hit_rate = 1 if any(hits) else 0\n",
    "\n",
    "    return {\n",
    "        'ndcg': ndcg,\n",
    "        'precision': precision,\n",
    "        'recall': recall,\n",
    "        'mrr': mrr,\n",
    "        'hitrate': hit_rate\n",
    "    }\n"
   ],
   "id": "initial_id",
   "outputs": [],
   "execution_count": 3
  },
  {
   "metadata": {
    "ExecuteTime": {
     "end_time": "2025-03-21T12:20:41.163044Z",
     "start_time": "2025-03-21T12:20:41.156231Z"
    }
   },
   "cell_type": "code",
   "source": [
    "# DATASET HYPER-PARAMETERS #\n",
    "city = \"nyc\"\n",
    "city_files = glob.glob('*_visits.csv')\n",
    "data_file = f\"./data/processed/foursquare_complete_{city}_cp_small.csv\"\n",
    "train_window = 60  # Training window in days\n",
    "k_days = 7  # Epoch length in days\n",
    "threshold = 100  # Performance degradation threshold (adjust as needed)\n",
    "max_simulation_days = 90  # Maximum number of simulation days\n",
    "min_activity = 5  \n",
    "topK = 20\n",
    "\n",
    "# RECSYS HYPER-PARAMETERS #\n",
    "# MF\n",
    "num_latent_factors = 32\n",
    "# UserKNN\n",
    "num_nearest_neighbors = 5\n"
   ],
   "id": "2fb38147296eb9a4",
   "outputs": [],
   "execution_count": 4
  },
  {
   "metadata": {
    "ExecuteTime": {
     "end_time": "2025-03-21T12:20:43.264294Z",
     "start_time": "2025-03-21T12:20:42.917006Z"
    }
   },
   "cell_type": "code",
   "source": [
    "# DATA LOADING\n",
    "dataset = pd.read_csv(data_file)\n",
    "print(f'Dataset has {len(dataset)} records.')\n",
    "dataset['time'] = pd.to_datetime(dataset['time'])\n",
    "dataset['uid'] = dataset['uid'].astype(int)\n",
    "dataset['venueID'] = dataset['venueID'].astype(str)\n",
    "#drop duplicates\n",
    "dataset = dataset.drop_duplicates()\n",
    "# recommender.city_name = os.path.basename(data_file).split('_')[0]\n",
    "print(f'Dataset has {len(dataset)} records after removing duplicates.')\n",
    "# Set training period\n",
    "start_date = dataset['time'].min()\n",
    "training_duration = timedelta(days=train_window)\n",
    "t = start_date + training_duration\n",
    "# Training data\n",
    "train_data = dataset[dataset['time'] < t]\n",
    "# Filtering out users with few interactions (visited less than X POIs)\n",
    "train_data = filtering_training_data(train_data, min_activity)\n",
    "# Simulation data==Test data\n",
    "test_data = dataset[dataset['time'] >= t]\n",
    "# Excluding users not present in the training dataset\n",
    "test_data = test_data[test_data['uid'].isin(train_data['uid'].unique())]\n",
    "test_data = test_data[test_data['venueID'].isin(train_data['venueID'].unique())]\n",
    "# Prepare interaction matrix\n",
    "X_train = create_interaction_matrix(train_data)\n"
   ],
   "id": "f06d4f68223168f5",
   "outputs": [
    {
     "name": "stdout",
     "output_type": "stream",
     "text": [
      "Dataset has 50000 records.\n",
      "Dataset has 49950 records after removing duplicates.\n"
     ]
    }
   ],
   "execution_count": 5
  },
  {
   "metadata": {
    "ExecuteTime": {
     "end_time": "2025-03-21T12:25:46.147750Z",
     "start_time": "2025-03-21T12:25:46.131847Z"
    }
   },
   "cell_type": "code",
   "source": [
    "from model.recommender3 import LightGCN\n",
    "import torch\n",
    "import torch.nn.functional as F\n",
    "\n",
    "def bpr_loss(user_factors, pos_item_factors, neg_item_factors, reg_lambda=0.0):\n",
    "    \"\"\"\n",
    "    Computes the BPR loss given user, positive, and negative item factors.\n",
    "    - user_factors: tensor of shape [batch_size, latent_dim]\n",
    "    - pos_item_factors: tensor of shape [batch_size, latent_dim]\n",
    "    - neg_item_factors: tensor of shape [batch_size, latent_dim]\n",
    "    - reg_lambda: regularization coefficient for L2 regularization\n",
    "    \"\"\"\n",
    "    diff = (user_factors * (pos_item_factors - neg_item_factors)).sum(dim=1)\n",
    "    loss = -torch.log(torch.sigmoid(diff) + 1e-8).mean()  # epsilon to avoid log(0)\n",
    "\n",
    "    if reg_lambda > 0:\n",
    "        reg_loss = reg_lambda * (user_factors.norm(2).pow(2) +\n",
    "                                 pos_item_factors.norm(2).pow(2) +\n",
    "                                 neg_item_factors.norm(2).pow(2)) / user_factors.shape[0]\n",
    "        loss += reg_loss\n",
    "    return loss\n",
    "\n",
    "num_users, num_items = X_train.shape\n",
    "recommender = LightGCN(num_users, num_items, 32, num_layers=2, epochs=500, lr=0.001,\n",
    "                 batch_size=128, patience=5, reg_lambda=0.0001, device='cpu')\n"
   ],
   "id": "57397f0211a756c",
   "outputs": [],
   "execution_count": 12
  },
  {
   "metadata": {
    "ExecuteTime": {
     "end_time": "2025-03-21T12:25:46.566372Z",
     "start_time": "2025-03-21T12:25:46.456847Z"
    }
   },
   "cell_type": "code",
   "source": [
    "# Build user and item index mappings\n",
    "recommender.user_index = {user: idx for idx, user in enumerate(X_train.index)}\n",
    "recommender.item_index = {item: idx for idx, item in enumerate(X_train.columns)}\n",
    "data_matrix = X_train.fillna(0).values.astype(np.float32)\n",
    "data_matrix[data_matrix > 0] = 1.0\n",
    "recommender.user_item_matrix = data_matrix\n",
    "recommender.build_graph()\n",
    "\n",
    "# Precompute positive items and negative sampling weights for each user\n",
    "for u in range(recommender.num_users):\n",
    "    pos_items = np.where(recommender.user_item_matrix[u] > 0)[0]\n",
    "    recommender.user_pos_items[u] = pos_items\n",
    "    weights = np.ones(recommender.num_items, dtype=np.float32)\n",
    "    weights[pos_items] = 0.0\n",
    "    weight_sum = weights.sum()\n",
    "    if weight_sum > 0:\n",
    "        weights /= weight_sum\n",
    "    else:\n",
    "        weights = np.ones(recommender.num_items, dtype=np.float32) / recommender.num_items\n",
    "    recommender.user_neg_weights[u] = weights\n"
   ],
   "id": "de5de0abeadd5393",
   "outputs": [],
   "execution_count": 13
  },
  {
   "metadata": {
    "ExecuteTime": {
     "end_time": "2025-03-21T12:26:15.875489Z",
     "start_time": "2025-03-21T12:25:47.712872Z"
    }
   },
   "cell_type": "code",
   "source": [
    "best_loss = float('inf')\n",
    "epochs_without_improvement = 0\n",
    "num_triplets_per_user = 4\n",
    "loss_list = []\n",
    "\n",
    "for epoch in range(recommender.epochs):\n",
    "    triplet_users, triplet_pos, triplet_neg = [], [], []\n",
    "    for u in range(recommender.num_users):\n",
    "        pos_items = recommender.user_pos_items[u]\n",
    "        if len(pos_items) == 0:\n",
    "            continue\n",
    "        for _ in range(num_triplets_per_user):\n",
    "            pos_item = np.random.choice(pos_items)\n",
    "            neg_item = np.random.choice(np.arange(recommender.num_items), p=recommender.user_neg_weights[u])\n",
    "            triplet_users.append(u)\n",
    "            triplet_pos.append(pos_item)\n",
    "            triplet_neg.append(neg_item)\n",
    "    if len(triplet_users) == 0:\n",
    "        break\n",
    "    # Shuffle triplets\n",
    "    triplets = list(zip(triplet_users, triplet_pos, triplet_neg))\n",
    "    np.random.shuffle(triplets)\n",
    "    triplet_users, triplet_pos, triplet_neg = zip(*triplets)\n",
    "    triplet_users = np.array(triplet_users)\n",
    "    triplet_pos = np.array(triplet_pos)\n",
    "    triplet_neg = np.array(triplet_neg)\n",
    "\n",
    "    epoch_loss = 0.0\n",
    "    num_batches = int(np.ceil(len(triplet_users) / recommender.batch_size))\n",
    "    for i in range(num_batches):\n",
    "        start = i * recommender.batch_size\n",
    "        end = min((i + 1) * recommender.batch_size, len(triplet_users))\n",
    "        batch_users = torch.LongTensor(triplet_users[start:end]).to(recommender.device)\n",
    "        batch_pos = torch.LongTensor(triplet_pos[start:end]).to(recommender.device)\n",
    "        batch_neg = torch.LongTensor(triplet_neg[start:end]).to(recommender.device)\n",
    "\n",
    "        # Compute final embeddings for current parameters\n",
    "        final_user_embeddings, final_item_embeddings = recommender.compute_final_embeddings()\n",
    "        u_emb = final_user_embeddings[batch_users]\n",
    "        pos_emb = final_item_embeddings[batch_pos]\n",
    "        neg_emb = final_item_embeddings[batch_neg]\n",
    "\n",
    "        loss = bpr_loss(u_emb, pos_emb, neg_emb, recommender.reg_lambda)\n",
    "        recommender.optimizer.zero_grad()\n",
    "        loss.backward()\n",
    "        recommender.optimizer.step()\n",
    "        epoch_loss += loss.item()\n",
    "    avg_epoch_loss = epoch_loss / num_batches\n",
    "    # Optionally print training loss.\n",
    "    print(f\"Epoch {epoch+1}/{recommender.epochs}, Loss: {avg_epoch_loss:.4f}\")\n",
    "    loss_list.append(avg_epoch_loss)\n",
    "    if avg_epoch_loss < best_loss:\n",
    "        best_loss = avg_epoch_loss\n",
    "        epochs_without_improvement = 0\n",
    "    else:\n",
    "        epochs_without_improvement += 1\n",
    "\n",
    "    if epochs_without_improvement >= recommender.patience:\n",
    "        break"
   ],
   "id": "e29d6171048d658c",
   "outputs": [
    {
     "name": "stdout",
     "output_type": "stream",
     "text": [
      "Epoch 1/500, Loss: 0.6929\n",
      "Epoch 2/500, Loss: 0.6924\n",
      "Epoch 3/500, Loss: 0.6914\n",
      "Epoch 4/500, Loss: 0.6901\n",
      "Epoch 5/500, Loss: 0.6883\n",
      "Epoch 6/500, Loss: 0.6859\n",
      "Epoch 7/500, Loss: 0.6830\n",
      "Epoch 8/500, Loss: 0.6791\n",
      "Epoch 9/500, Loss: 0.6753\n",
      "Epoch 10/500, Loss: 0.6703\n",
      "Epoch 11/500, Loss: 0.6648\n",
      "Epoch 12/500, Loss: 0.6593\n",
      "Epoch 13/500, Loss: 0.6527\n",
      "Epoch 14/500, Loss: 0.6463\n",
      "Epoch 15/500, Loss: 0.6382\n",
      "Epoch 16/500, Loss: 0.6313\n",
      "Epoch 17/500, Loss: 0.6221\n",
      "Epoch 18/500, Loss: 0.6155\n",
      "Epoch 19/500, Loss: 0.6043\n",
      "Epoch 20/500, Loss: 0.5973\n",
      "Epoch 21/500, Loss: 0.5862\n",
      "Epoch 22/500, Loss: 0.5756\n",
      "Epoch 23/500, Loss: 0.5670\n",
      "Epoch 24/500, Loss: 0.5569\n",
      "Epoch 25/500, Loss: 0.5448\n",
      "Epoch 26/500, Loss: 0.5357\n",
      "Epoch 27/500, Loss: 0.5246\n",
      "Epoch 28/500, Loss: 0.5127\n",
      "Epoch 29/500, Loss: 0.5037\n",
      "Epoch 30/500, Loss: 0.4940\n",
      "Epoch 31/500, Loss: 0.4838\n",
      "Epoch 32/500, Loss: 0.4724\n",
      "Epoch 33/500, Loss: 0.4637\n",
      "Epoch 34/500, Loss: 0.4499\n",
      "Epoch 35/500, Loss: 0.4433\n",
      "Epoch 36/500, Loss: 0.4328\n",
      "Epoch 37/500, Loss: 0.4245\n",
      "Epoch 38/500, Loss: 0.4098\n",
      "Epoch 39/500, Loss: 0.4021\n",
      "Epoch 40/500, Loss: 0.3926\n",
      "Epoch 41/500, Loss: 0.3797\n",
      "Epoch 42/500, Loss: 0.3735\n",
      "Epoch 43/500, Loss: 0.3648\n",
      "Epoch 44/500, Loss: 0.3540\n",
      "Epoch 45/500, Loss: 0.3483\n",
      "Epoch 46/500, Loss: 0.3361\n",
      "Epoch 47/500, Loss: 0.3303\n",
      "Epoch 48/500, Loss: 0.3196\n",
      "Epoch 49/500, Loss: 0.3132\n",
      "Epoch 50/500, Loss: 0.3044\n",
      "Epoch 51/500, Loss: 0.2969\n",
      "Epoch 52/500, Loss: 0.2925\n",
      "Epoch 53/500, Loss: 0.2800\n",
      "Epoch 54/500, Loss: 0.2806\n",
      "Epoch 55/500, Loss: 0.2706\n",
      "Epoch 56/500, Loss: 0.2666\n",
      "Epoch 57/500, Loss: 0.2550\n",
      "Epoch 58/500, Loss: 0.2533\n",
      "Epoch 59/500, Loss: 0.2413\n",
      "Epoch 60/500, Loss: 0.2412\n",
      "Epoch 61/500, Loss: 0.2355\n",
      "Epoch 62/500, Loss: 0.2273\n",
      "Epoch 63/500, Loss: 0.2218\n",
      "Epoch 64/500, Loss: 0.2183\n",
      "Epoch 65/500, Loss: 0.2149\n",
      "Epoch 66/500, Loss: 0.2119\n",
      "Epoch 67/500, Loss: 0.2043\n",
      "Epoch 68/500, Loss: 0.1955\n",
      "Epoch 69/500, Loss: 0.1954\n",
      "Epoch 70/500, Loss: 0.1932\n",
      "Epoch 71/500, Loss: 0.1845\n",
      "Epoch 72/500, Loss: 0.1856\n",
      "Epoch 73/500, Loss: 0.1812\n",
      "Epoch 74/500, Loss: 0.1733\n",
      "Epoch 75/500, Loss: 0.1686\n",
      "Epoch 76/500, Loss: 0.1640\n",
      "Epoch 77/500, Loss: 0.1693\n",
      "Epoch 78/500, Loss: 0.1604\n",
      "Epoch 79/500, Loss: 0.1620\n",
      "Epoch 80/500, Loss: 0.1512\n",
      "Epoch 81/500, Loss: 0.1524\n",
      "Epoch 82/500, Loss: 0.1506\n",
      "Epoch 83/500, Loss: 0.1438\n",
      "Epoch 84/500, Loss: 0.1438\n",
      "Epoch 85/500, Loss: 0.1390\n",
      "Epoch 86/500, Loss: 0.1389\n",
      "Epoch 87/500, Loss: 0.1326\n",
      "Epoch 88/500, Loss: 0.1301\n",
      "Epoch 89/500, Loss: 0.1293\n",
      "Epoch 90/500, Loss: 0.1273\n",
      "Epoch 91/500, Loss: 0.1210\n",
      "Epoch 92/500, Loss: 0.1199\n",
      "Epoch 93/500, Loss: 0.1223\n",
      "Epoch 94/500, Loss: 0.1158\n",
      "Epoch 95/500, Loss: 0.1134\n",
      "Epoch 96/500, Loss: 0.1116\n",
      "Epoch 97/500, Loss: 0.1089\n",
      "Epoch 98/500, Loss: 0.1066\n",
      "Epoch 99/500, Loss: 0.1057\n",
      "Epoch 100/500, Loss: 0.1062\n",
      "Epoch 101/500, Loss: 0.1096\n",
      "Epoch 102/500, Loss: 0.1036\n",
      "Epoch 103/500, Loss: 0.1009\n",
      "Epoch 104/500, Loss: 0.1000\n",
      "Epoch 105/500, Loss: 0.0955\n",
      "Epoch 106/500, Loss: 0.0954\n",
      "Epoch 107/500, Loss: 0.0954\n",
      "Epoch 108/500, Loss: 0.0921\n",
      "Epoch 109/500, Loss: 0.0908\n",
      "Epoch 110/500, Loss: 0.0907\n",
      "Epoch 111/500, Loss: 0.0873\n",
      "Epoch 112/500, Loss: 0.0860\n",
      "Epoch 113/500, Loss: 0.0834\n",
      "Epoch 114/500, Loss: 0.0836\n",
      "Epoch 115/500, Loss: 0.0794\n",
      "Epoch 116/500, Loss: 0.0842\n",
      "Epoch 117/500, Loss: 0.0791\n",
      "Epoch 118/500, Loss: 0.0767\n",
      "Epoch 119/500, Loss: 0.0807\n",
      "Epoch 120/500, Loss: 0.0730\n",
      "Epoch 121/500, Loss: 0.0744\n",
      "Epoch 122/500, Loss: 0.0745\n",
      "Epoch 123/500, Loss: 0.0758\n",
      "Epoch 124/500, Loss: 0.0763\n",
      "Epoch 125/500, Loss: 0.0747\n"
     ]
    }
   ],
   "execution_count": 14
  },
  {
   "metadata": {
    "ExecuteTime": {
     "end_time": "2025-03-21T12:26:18.724543Z",
     "start_time": "2025-03-21T12:26:18.511281Z"
    }
   },
   "cell_type": "code",
   "source": [
    "import matplotlib.pyplot as plt\n",
    "plt.plot(loss_list)\n",
    "plt.legend()\n"
   ],
   "id": "7f6c2e43e9615f23",
   "outputs": [
    {
     "name": "stderr",
     "output_type": "stream",
     "text": [
      "/tmp/ipykernel_696680/3009594393.py:3: UserWarning: No artists with labels found to put in legend.  Note that artists whose label start with an underscore are ignored when legend() is called with no argument.\n",
      "  plt.legend()\n"
     ]
    },
    {
     "data": {
      "text/plain": [
       "<matplotlib.legend.Legend at 0x7fe61cff6020>"
      ]
     },
     "execution_count": 15,
     "metadata": {},
     "output_type": "execute_result"
    },
    {
     "data": {
      "text/plain": [
       "<Figure size 640x480 with 1 Axes>"
      ],
      "image/png": "[encoded data removed]"
     },
     "metadata": {},
     "output_type": "display_data"
    }
   ],
   "execution_count": 15
  },
  {
   "metadata": {},
   "cell_type": "code",
   "outputs": [],
   "execution_count": null,
   "source": "",
   "id": "9e76900484a7fd8d"
  }
 ],
 "metadata": {
  "kernelspec": {
   "display_name": "Python 3",
   "language": "python",
   "name": "python3"
  },
  "language_info": {
   "codemirror_mode": {
    "name": "ipython",
    "version": 2
   },
   "file_extension": ".py",
   "mimetype": "text/x-python",
   "name": "python",
   "nbconvert_exporter": "python",
   "pygments_lexer": "ipython2",
   "version": "2.7.6"
  }
 },
 "nbformat": 4,
 "nbformat_minor": 5
}
