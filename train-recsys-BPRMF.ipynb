{
 "cells": [
  {
   "metadata": {
    "ExecuteTime": {
     "end_time": "2025-03-18T23:22:09.101767Z",
     "start_time": "2025-03-18T23:22:09.089105Z"
    }
   },
   "cell_type": "code",
   "source": [
    "import sys\n",
    "sys.path.append('/mnt/nas/minici/UrbRecLoop')\n"
   ],
   "id": "9d9a40098f2f36ba",
   "outputs": [],
   "execution_count": 1
  },
  {
   "metadata": {
    "ExecuteTime": {
     "end_time": "2025-03-18T23:22:09.938057Z",
     "start_time": "2025-03-18T23:22:09.932018Z"
    }
   },
   "cell_type": "code",
   "source": "%cd /mnt/nas/minici/UrbRecLoop",
   "id": "f0291105796baa24",
   "outputs": [
    {
     "name": "stdout",
     "output_type": "stream",
     "text": [
      "/mnt/nas/minici/UrbRecLoop\n"
     ]
    },
    {
     "name": "stderr",
     "output_type": "stream",
     "text": [
      "/home/minici/anaconda3/envs/frasson/lib/python3.10/site-packages/IPython/core/magics/osm.py:417: UserWarning: This is now an optional IPython functionality, setting dhist requires you to install the `pickleshare` library.\n",
      "  self.shell.db['dhist'] = compress_dhist(dhist)[-100:]\n"
     ]
    }
   ],
   "execution_count": 2
  },
  {
   "metadata": {
    "collapsed": true,
    "ExecuteTime": {
     "end_time": "2025-03-18T23:22:14.542256Z",
     "start_time": "2025-03-18T23:22:11.996460Z"
    }
   },
   "cell_type": "code",
   "source": [
    "from model.recommender3 import MultiVAE, MatrixFactorization\n",
    "from model import user\n",
    "from datetime import timedelta\n",
    "import glob\n",
    "import tqdm\n",
    "import os\n",
    "import pandas as pd\n",
    "import numpy as np\n",
    "\n",
    "def filtering_training_data(training_dataset, min_activity):\n",
    "    # Count the number of rows per user\n",
    "    user_counts = training_dataset['uid'].value_counts()\n",
    "    # Get the users with at least x rows\n",
    "    valid_users = user_counts[user_counts >= min_activity].index\n",
    "    # Filter the DataFrame to include only valid users\n",
    "    filtered_dataset = training_dataset[training_dataset['uid'].isin(valid_users)]\n",
    "    return filtered_dataset\n",
    "\n",
    "def create_interaction_matrix(data):\n",
    "    interaction_counts = data.groupby(['uid', 'venueID']).size().reset_index(name='counts')\n",
    "    interaction_matrix = interaction_counts.pivot(index='uid', columns='venueID', values='counts').fillna(0)\n",
    "    return interaction_matrix\n",
    "\n",
    "\n",
    "def calculate_metrics(recommended_venues, real_visited_venues):\n",
    "    recommended_venues = list(recommended_venues)\n",
    "    real_visited_venues = set(real_visited_venues)\n",
    "\n",
    "    # Calculate hits\n",
    "    hits = [1 if venue in real_visited_venues else 0 for venue in recommended_venues]\n",
    "\n",
    "    # Precision\n",
    "    precision = sum(hits) / len(recommended_venues) if recommended_venues else 0\n",
    "\n",
    "    # Recall\n",
    "    recall = sum(hits) / len(real_visited_venues) if real_visited_venues else 0\n",
    "\n",
    "    # NDCG\n",
    "    dcg = 0\n",
    "    idcg = 0\n",
    "    for i, hit in enumerate(hits, 1):\n",
    "        if hit:\n",
    "            dcg += 1 / np.log2(i + 1)\n",
    "    for i in range(1, len(real_visited_venues) + 1):\n",
    "        idcg += 1 / np.log2(i + 1)\n",
    "    ndcg = dcg / idcg if idcg > 0 else 0\n",
    "\n",
    "    # MRR\n",
    "    mrr = 0\n",
    "    for i, hit in enumerate(hits, 1):\n",
    "        if hit:\n",
    "            mrr = 1 / i\n",
    "            break\n",
    "\n",
    "    # Hit Rate\n",
    "    hit_rate = 1 if any(hits) else 0\n",
    "\n",
    "    return {\n",
    "        'ndcg': ndcg,\n",
    "        'precision': precision,\n",
    "        'recall': recall,\n",
    "        'mrr': mrr,\n",
    "        'hitrate': hit_rate\n",
    "    }\n"
   ],
   "id": "initial_id",
   "outputs": [],
   "execution_count": 3
  },
  {
   "metadata": {
    "ExecuteTime": {
     "end_time": "2025-03-18T23:22:15.429879Z",
     "start_time": "2025-03-18T23:22:15.422557Z"
    }
   },
   "cell_type": "code",
   "source": [
    "# DATASET HYPER-PARAMETERS #\n",
    "city = \"nyc\"\n",
    "city_files = glob.glob('*_visits.csv')\n",
    "data_file = f\"./data/processed/foursquare_complete_{city}_cp_small.csv\"\n",
    "train_window = 60  # Training window in days\n",
    "k_days = 7  # Epoch length in days\n",
    "threshold = 100  # Performance degradation threshold (adjust as needed)\n",
    "max_simulation_days = 90  # Maximum number of simulation days\n",
    "min_activity = 5  \n",
    "topK = 20\n",
    "\n",
    "# RECSYS HYPER-PARAMETERS #\n",
    "# MF\n",
    "num_latent_factors = 32\n",
    "# UserKNN\n",
    "num_nearest_neighbors = 5\n"
   ],
   "id": "2fb38147296eb9a4",
   "outputs": [],
   "execution_count": 4
  },
  {
   "metadata": {
    "ExecuteTime": {
     "end_time": "2025-03-18T23:22:16.476751Z",
     "start_time": "2025-03-18T23:22:16.146188Z"
    }
   },
   "cell_type": "code",
   "source": [
    "# DATA LOADING\n",
    "dataset = pd.read_csv(data_file)\n",
    "print(f'Dataset has {len(dataset)} records.')\n",
    "dataset['time'] = pd.to_datetime(dataset['time'])\n",
    "dataset['uid'] = dataset['uid'].astype(int)\n",
    "dataset['venueID'] = dataset['venueID'].astype(str)\n",
    "#drop duplicates\n",
    "dataset = dataset.drop_duplicates()\n",
    "# self.city_name = os.path.basename(data_file).split('_')[0]\n",
    "print(f'Dataset has {len(dataset)} records after removing duplicates.')\n",
    "# Set training period\n",
    "start_date = dataset['time'].min()\n",
    "training_duration = timedelta(days=train_window)\n",
    "t = start_date + training_duration\n",
    "# Training data\n",
    "train_data = dataset[dataset['time'] < t]\n",
    "# Filtering out users with few interactions (visited less than X POIs)\n",
    "train_data = filtering_training_data(train_data, min_activity)\n",
    "# Simulation data==Test data\n",
    "test_data = dataset[dataset['time'] >= t]\n",
    "# Excluding users not present in the training dataset\n",
    "test_data = test_data[test_data['uid'].isin(train_data['uid'].unique())]\n",
    "test_data = test_data[test_data['venueID'].isin(train_data['venueID'].unique())]\n",
    "# Prepare interaction matrix\n",
    "X_train = create_interaction_matrix(train_data)\n"
   ],
   "id": "f06d4f68223168f5",
   "outputs": [
    {
     "name": "stdout",
     "output_type": "stream",
     "text": [
      "Dataset has 50000 records.\n",
      "Dataset has 49950 records after removing duplicates.\n"
     ]
    }
   ],
   "execution_count": 5
  },
  {
   "metadata": {
    "ExecuteTime": {
     "end_time": "2025-03-18T23:26:01.472689Z",
     "start_time": "2025-03-18T23:26:01.428223Z"
    }
   },
   "cell_type": "code",
   "source": [
    "from model.recommender3 import BPRMF\n",
    "import torch\n",
    "import torch.nn.functional as F\n",
    "\n",
    "def bpr_loss(user_factors, pos_item_factors, neg_item_factors, reg_lambda=0.0):\n",
    "    \"\"\"\n",
    "    Computes the BPR loss given user, positive, and negative item factors.\n",
    "    - user_factors: tensor of shape [batch_size, latent_dim]\n",
    "    - pos_item_factors: tensor of shape [batch_size, latent_dim]\n",
    "    - neg_item_factors: tensor of shape [batch_size, latent_dim]\n",
    "    - reg_lambda: regularization coefficient for L2 regularization\n",
    "    \"\"\"\n",
    "    diff = (user_factors * (pos_item_factors - neg_item_factors)).sum(dim=1)\n",
    "    loss = -torch.log(torch.sigmoid(diff) + 1e-8).mean()  # epsilon to avoid log(0)\n",
    "\n",
    "    if reg_lambda > 0:\n",
    "        reg_loss = reg_lambda * (user_factors.norm(2).pow(2) +\n",
    "                                 pos_item_factors.norm(2).pow(2) +\n",
    "                                 neg_item_factors.norm(2).pow(2)) / user_factors.shape[0]\n",
    "        loss += reg_loss\n",
    "    return loss\n",
    "\n",
    "num_users, num_items = X_train.shape\n",
    "recommender = BPRMF(num_users, num_items, 128, epochs=500, lr=0.001,\n",
    "                 batch_size=128, patience=5, reg_lambda=0.001, device='cpu')\n"
   ],
   "id": "57397f0211a756c",
   "outputs": [],
   "execution_count": 13
  },
  {
   "metadata": {
    "ExecuteTime": {
     "end_time": "2025-03-18T23:28:35.747503Z",
     "start_time": "2025-03-18T23:28:35.353991Z"
    }
   },
   "cell_type": "code",
   "source": "!pwd",
   "id": "f2532a1f26ce76b5",
   "outputs": [
    {
     "name": "stdout",
     "output_type": "stream",
     "text": [
      "/mnt/nas/minici/UrbRecLoop\r\n"
     ]
    }
   ],
   "execution_count": 19
  },
  {
   "metadata": {
    "ExecuteTime": {
     "end_time": "2025-03-18T23:29:04.623606Z",
     "start_time": "2025-03-18T23:29:04.344883Z"
    }
   },
   "cell_type": "code",
   "source": [
    "mockdata = pd.read_csv('./data/processed/training_data_city_nyc-full__trainWindow_210__.csv')\n",
    "mockdata.uid.nunique()"
   ],
   "id": "9fd722053bcfe260",
   "outputs": [
    {
     "data": {
      "text/plain": [
       "827"
      ]
     },
     "execution_count": 21,
     "metadata": {},
     "output_type": "execute_result"
    }
   ],
   "execution_count": 21
  },
  {
   "metadata": {
    "ExecuteTime": {
     "end_time": "2025-03-18T23:26:01.706570Z",
     "start_time": "2025-03-18T23:26:01.623024Z"
    }
   },
   "cell_type": "code",
   "source": [
    "# Map users and items to indices\n",
    "recommender.user_index = {user: idx for idx, user in enumerate(X_train.index)}\n",
    "recommender.item_index = {item: idx for idx, item in enumerate(X_train.columns)}\n",
    "\n",
    "# Fill missing values and convert the DataFrame to a numpy array.\n",
    "data_matrix = X_train.fillna(0).values.astype(np.float32)\n",
    "data_matrix[data_matrix > 0] = 1.0\n",
    "recommender.user_item_matrix = torch.FloatTensor(data_matrix).to(recommender.device)\n",
    "\n",
    "input_dim = recommender.user_item_matrix.shape[1]\n",
    "\n",
    "# Precompute positive items per user and weighted negative sampling distributions.\n",
    "user_pos_items = {}\n",
    "for u in range(recommender.num_users):\n",
    "    pos_items = np.where(recommender.user_item_matrix[u] > 0)[0]\n",
    "    user_pos_items[u] = pos_items\n",
    "\n",
    "    # Create weights: default weight 1 for all items.\n",
    "    weights = np.ones(recommender.num_items, dtype=np.float32)\n",
    "    weights[pos_items] = 0.0  # zero out positive items.\n",
    "    weight_sum = weights.sum()\n",
    "    if weight_sum > 0:\n",
    "        weights /= weight_sum\n",
    "    else:\n",
    "        weights = np.ones(recommender.num_items, dtype=np.float32) / recommender.num_items\n",
    "    recommender.user_neg_weights[u] = weights\n"
   ],
   "id": "de5de0abeadd5393",
   "outputs": [],
   "execution_count": 14
  },
  {
   "metadata": {
    "ExecuteTime": {
     "end_time": "2025-03-18T23:26:38.066333Z",
     "start_time": "2025-03-18T23:26:02.172242Z"
    }
   },
   "cell_type": "code",
   "source": [
    "best_loss = float('inf')\n",
    "epochs_without_improvement = 0\n",
    "loss_list = []\n",
    "\n",
    "recommender.user_embedding.train()\n",
    "recommender.item_embedding.train()\n",
    "\n",
    "num_triplets_per_user = 4  # generate 4 triplets per user.\n",
    "\n",
    "for epoch in range(recommender.epochs):\n",
    "    triplet_users = []\n",
    "    triplet_pos = []\n",
    "    triplet_neg = []\n",
    "\n",
    "    # Generate triplets for all users.\n",
    "    for u in range(recommender.num_users):\n",
    "        pos_items = user_pos_items[u]\n",
    "        if len(pos_items) == 0:\n",
    "            continue  # skip users with no positive interactions.\n",
    "        for _ in range(num_triplets_per_user):\n",
    "            pos_item = np.random.choice(pos_items)\n",
    "            neg_item = np.random.choice(np.arange(recommender.num_items), p=recommender.user_neg_weights[u])\n",
    "            triplet_users.append(u)\n",
    "            triplet_pos.append(pos_item)\n",
    "            triplet_neg.append(neg_item)\n",
    "\n",
    "    if len(triplet_users) == 0:\n",
    "        break  # no training samples available.\n",
    "\n",
    "    # Shuffle triplets.\n",
    "    triplets = list(zip(triplet_users, triplet_pos, triplet_neg))\n",
    "    np.random.shuffle(triplets)\n",
    "    triplet_users, triplet_pos, triplet_neg = zip(*triplets)\n",
    "    triplet_users = np.array(triplet_users)\n",
    "    triplet_pos = np.array(triplet_pos)\n",
    "    triplet_neg = np.array(triplet_neg)\n",
    "\n",
    "    epoch_loss = 0.0\n",
    "    num_batches = int(np.ceil(len(triplet_users) / recommender.batch_size))\n",
    "\n",
    "    # Process mini-batches.\n",
    "    for i in range(num_batches):\n",
    "        start = i * recommender.batch_size\n",
    "        end = min((i + 1) * recommender.batch_size, len(triplet_users))\n",
    "        batch_users = torch.LongTensor(triplet_users[start:end]).to(recommender.device)\n",
    "        batch_pos = torch.LongTensor(triplet_pos[start:end]).to(recommender.device)\n",
    "        batch_neg = torch.LongTensor(triplet_neg[start:end]).to(recommender.device)\n",
    "\n",
    "        # Lookup embeddings.\n",
    "        u_factors = recommender.user_embedding(batch_users)\n",
    "        pos_factors = recommender.item_embedding(batch_pos)\n",
    "        neg_factors = recommender.item_embedding(batch_neg)\n",
    "\n",
    "        loss = bpr_loss(u_factors, pos_factors, neg_factors, recommender.reg_lambda)\n",
    "\n",
    "        recommender.optimizer.zero_grad()\n",
    "        loss.backward()\n",
    "        recommender.optimizer.step()\n",
    "\n",
    "        epoch_loss += loss.item()\n",
    "\n",
    "    # Average loss per epoch.\n",
    "    avg_epoch_loss = epoch_loss / num_batches\n",
    "    loss_list.append(avg_epoch_loss)\n",
    "    if avg_epoch_loss < best_loss:\n",
    "        best_loss = avg_epoch_loss\n",
    "        epochs_without_improvement = 0\n",
    "    else:\n",
    "        epochs_without_improvement += 1\n",
    "\n",
    "    # Optionally print training loss.\n",
    "    print(f\"Epoch {epoch+1}/{recommender.epochs}, Loss: {avg_epoch_loss:.4f}\")\n",
    "\n",
    "    if epochs_without_improvement >= recommender.patience:\n",
    "        # print(f\"Stopping early at epoch {epoch+1} with best loss {best_loss:.4f}\")\n",
    "        break\n",
    "\n"
   ],
   "id": "e29d6171048d658c",
   "outputs": [
    {
     "name": "stdout",
     "output_type": "stream",
     "text": [
      "Epoch 1/500, Loss: 0.6931\n",
      "Epoch 2/500, Loss: 0.6928\n",
      "Epoch 3/500, Loss: 0.6923\n",
      "Epoch 4/500, Loss: 0.6918\n",
      "Epoch 5/500, Loss: 0.6911\n",
      "Epoch 6/500, Loss: 0.6905\n",
      "Epoch 7/500, Loss: 0.6892\n",
      "Epoch 8/500, Loss: 0.6881\n",
      "Epoch 9/500, Loss: 0.6865\n",
      "Epoch 10/500, Loss: 0.6846\n",
      "Epoch 11/500, Loss: 0.6823\n",
      "Epoch 12/500, Loss: 0.6796\n",
      "Epoch 13/500, Loss: 0.6765\n",
      "Epoch 14/500, Loss: 0.6726\n",
      "Epoch 15/500, Loss: 0.6686\n",
      "Epoch 16/500, Loss: 0.6629\n",
      "Epoch 17/500, Loss: 0.6592\n",
      "Epoch 18/500, Loss: 0.6528\n",
      "Epoch 19/500, Loss: 0.6480\n",
      "Epoch 20/500, Loss: 0.6421\n",
      "Epoch 21/500, Loss: 0.6361\n",
      "Epoch 22/500, Loss: 0.6276\n",
      "Epoch 23/500, Loss: 0.6178\n",
      "Epoch 24/500, Loss: 0.6117\n",
      "Epoch 25/500, Loss: 0.6023\n",
      "Epoch 26/500, Loss: 0.5946\n",
      "Epoch 27/500, Loss: 0.5854\n",
      "Epoch 28/500, Loss: 0.5752\n",
      "Epoch 29/500, Loss: 0.5668\n",
      "Epoch 30/500, Loss: 0.5568\n",
      "Epoch 31/500, Loss: 0.5494\n",
      "Epoch 32/500, Loss: 0.5414\n",
      "Epoch 33/500, Loss: 0.5296\n",
      "Epoch 34/500, Loss: 0.5214\n",
      "Epoch 35/500, Loss: 0.5111\n",
      "Epoch 36/500, Loss: 0.5017\n",
      "Epoch 37/500, Loss: 0.4913\n",
      "Epoch 38/500, Loss: 0.4828\n",
      "Epoch 39/500, Loss: 0.4731\n",
      "Epoch 40/500, Loss: 0.4640\n",
      "Epoch 41/500, Loss: 0.4554\n",
      "Epoch 42/500, Loss: 0.4453\n",
      "Epoch 43/500, Loss: 0.4362\n",
      "Epoch 44/500, Loss: 0.4301\n",
      "Epoch 45/500, Loss: 0.4192\n",
      "Epoch 46/500, Loss: 0.4097\n",
      "Epoch 47/500, Loss: 0.3988\n",
      "Epoch 48/500, Loss: 0.3930\n",
      "Epoch 49/500, Loss: 0.3857\n",
      "Epoch 50/500, Loss: 0.3754\n",
      "Epoch 51/500, Loss: 0.3689\n",
      "Epoch 52/500, Loss: 0.3600\n",
      "Epoch 53/500, Loss: 0.3496\n",
      "Epoch 54/500, Loss: 0.3449\n",
      "Epoch 55/500, Loss: 0.3338\n",
      "Epoch 56/500, Loss: 0.3334\n",
      "Epoch 57/500, Loss: 0.3247\n",
      "Epoch 58/500, Loss: 0.3165\n",
      "Epoch 59/500, Loss: 0.3102\n",
      "Epoch 60/500, Loss: 0.3009\n",
      "Epoch 61/500, Loss: 0.2977\n",
      "Epoch 62/500, Loss: 0.2880\n",
      "Epoch 63/500, Loss: 0.2843\n",
      "Epoch 64/500, Loss: 0.2760\n",
      "Epoch 65/500, Loss: 0.2701\n",
      "Epoch 66/500, Loss: 0.2623\n",
      "Epoch 67/500, Loss: 0.2592\n",
      "Epoch 68/500, Loss: 0.2596\n",
      "Epoch 69/500, Loss: 0.2455\n",
      "Epoch 70/500, Loss: 0.2408\n",
      "Epoch 71/500, Loss: 0.2413\n",
      "Epoch 72/500, Loss: 0.2356\n",
      "Epoch 73/500, Loss: 0.2283\n",
      "Epoch 74/500, Loss: 0.2241\n",
      "Epoch 75/500, Loss: 0.2192\n",
      "Epoch 76/500, Loss: 0.2163\n",
      "Epoch 77/500, Loss: 0.2096\n",
      "Epoch 78/500, Loss: 0.2038\n",
      "Epoch 79/500, Loss: 0.2024\n",
      "Epoch 80/500, Loss: 0.1964\n",
      "Epoch 81/500, Loss: 0.1966\n",
      "Epoch 82/500, Loss: 0.1882\n",
      "Epoch 83/500, Loss: 0.1851\n",
      "Epoch 84/500, Loss: 0.1813\n",
      "Epoch 85/500, Loss: 0.1821\n",
      "Epoch 86/500, Loss: 0.1774\n",
      "Epoch 87/500, Loss: 0.1735\n",
      "Epoch 88/500, Loss: 0.1668\n",
      "Epoch 89/500, Loss: 0.1653\n",
      "Epoch 90/500, Loss: 0.1615\n",
      "Epoch 91/500, Loss: 0.1576\n",
      "Epoch 92/500, Loss: 0.1538\n",
      "Epoch 93/500, Loss: 0.1534\n",
      "Epoch 94/500, Loss: 0.1486\n",
      "Epoch 95/500, Loss: 0.1486\n",
      "Epoch 96/500, Loss: 0.1446\n",
      "Epoch 97/500, Loss: 0.1394\n",
      "Epoch 98/500, Loss: 0.1389\n",
      "Epoch 99/500, Loss: 0.1388\n",
      "Epoch 100/500, Loss: 0.1354\n",
      "Epoch 101/500, Loss: 0.1344\n",
      "Epoch 102/500, Loss: 0.1304\n",
      "Epoch 103/500, Loss: 0.1289\n",
      "Epoch 104/500, Loss: 0.1274\n",
      "Epoch 105/500, Loss: 0.1240\n",
      "Epoch 106/500, Loss: 0.1226\n",
      "Epoch 107/500, Loss: 0.1236\n",
      "Epoch 108/500, Loss: 0.1166\n",
      "Epoch 109/500, Loss: 0.1135\n",
      "Epoch 110/500, Loss: 0.1140\n",
      "Epoch 111/500, Loss: 0.1122\n",
      "Epoch 112/500, Loss: 0.1107\n",
      "Epoch 113/500, Loss: 0.1091\n",
      "Epoch 114/500, Loss: 0.1046\n",
      "Epoch 115/500, Loss: 0.1047\n",
      "Epoch 116/500, Loss: 0.1037\n",
      "Epoch 117/500, Loss: 0.1044\n",
      "Epoch 118/500, Loss: 0.0989\n",
      "Epoch 119/500, Loss: 0.0984\n",
      "Epoch 120/500, Loss: 0.0973\n",
      "Epoch 121/500, Loss: 0.0919\n",
      "Epoch 122/500, Loss: 0.0934\n",
      "Epoch 123/500, Loss: 0.0929\n",
      "Epoch 124/500, Loss: 0.0893\n",
      "Epoch 125/500, Loss: 0.0887\n",
      "Epoch 126/500, Loss: 0.0895\n",
      "Epoch 127/500, Loss: 0.0878\n",
      "Epoch 128/500, Loss: 0.0863\n",
      "Epoch 129/500, Loss: 0.0849\n",
      "Epoch 130/500, Loss: 0.0828\n",
      "Epoch 131/500, Loss: 0.0816\n",
      "Epoch 132/500, Loss: 0.0797\n",
      "Epoch 133/500, Loss: 0.0811\n",
      "Epoch 134/500, Loss: 0.0804\n",
      "Epoch 135/500, Loss: 0.0791\n",
      "Epoch 136/500, Loss: 0.0769\n",
      "Epoch 137/500, Loss: 0.0782\n",
      "Epoch 138/500, Loss: 0.0750\n",
      "Epoch 139/500, Loss: 0.0754\n",
      "Epoch 140/500, Loss: 0.0759\n",
      "Epoch 141/500, Loss: 0.0735\n",
      "Epoch 142/500, Loss: 0.0715\n",
      "Epoch 143/500, Loss: 0.0710\n",
      "Epoch 144/500, Loss: 0.0723\n",
      "Epoch 145/500, Loss: 0.0683\n",
      "Epoch 146/500, Loss: 0.0693\n",
      "Epoch 147/500, Loss: 0.0670\n",
      "Epoch 148/500, Loss: 0.0644\n",
      "Epoch 149/500, Loss: 0.0661\n",
      "Epoch 150/500, Loss: 0.0656\n",
      "Epoch 151/500, Loss: 0.0646\n",
      "Epoch 152/500, Loss: 0.0637\n",
      "Epoch 153/500, Loss: 0.0637\n",
      "Epoch 154/500, Loss: 0.0617\n",
      "Epoch 155/500, Loss: 0.0617\n",
      "Epoch 156/500, Loss: 0.0627\n",
      "Epoch 157/500, Loss: 0.0600\n",
      "Epoch 158/500, Loss: 0.0600\n",
      "Epoch 159/500, Loss: 0.0576\n",
      "Epoch 160/500, Loss: 0.0586\n",
      "Epoch 161/500, Loss: 0.0566\n",
      "Epoch 162/500, Loss: 0.0575\n",
      "Epoch 163/500, Loss: 0.0572\n",
      "Epoch 164/500, Loss: 0.0563\n",
      "Epoch 165/500, Loss: 0.0562\n",
      "Epoch 166/500, Loss: 0.0569\n",
      "Epoch 167/500, Loss: 0.0547\n",
      "Epoch 168/500, Loss: 0.0543\n",
      "Epoch 169/500, Loss: 0.0549\n",
      "Epoch 170/500, Loss: 0.0555\n",
      "Epoch 171/500, Loss: 0.0539\n",
      "Epoch 172/500, Loss: 0.0524\n",
      "Epoch 173/500, Loss: 0.0528\n",
      "Epoch 174/500, Loss: 0.0511\n",
      "Epoch 175/500, Loss: 0.0527\n",
      "Epoch 176/500, Loss: 0.0500\n",
      "Epoch 177/500, Loss: 0.0503\n",
      "Epoch 178/500, Loss: 0.0519\n",
      "Epoch 179/500, Loss: 0.0497\n",
      "Epoch 180/500, Loss: 0.0497\n",
      "Epoch 181/500, Loss: 0.0495\n",
      "Epoch 182/500, Loss: 0.0490\n",
      "Epoch 183/500, Loss: 0.0494\n",
      "Epoch 184/500, Loss: 0.0487\n",
      "Epoch 185/500, Loss: 0.0478\n",
      "Epoch 186/500, Loss: 0.0489\n",
      "Epoch 187/500, Loss: 0.0469\n",
      "Epoch 188/500, Loss: 0.0486\n",
      "Epoch 189/500, Loss: 0.0471\n",
      "Epoch 190/500, Loss: 0.0446\n",
      "Epoch 191/500, Loss: 0.0448\n",
      "Epoch 192/500, Loss: 0.0463\n",
      "Epoch 193/500, Loss: 0.0456\n",
      "Epoch 194/500, Loss: 0.0454\n",
      "Epoch 195/500, Loss: 0.0451\n"
     ]
    }
   ],
   "execution_count": 15
  },
  {
   "metadata": {
    "ExecuteTime": {
     "end_time": "2025-03-18T23:26:41.156449Z",
     "start_time": "2025-03-18T23:26:40.447284Z"
    }
   },
   "cell_type": "code",
   "source": [
    "import matplotlib.pyplot as plt\n",
    "plt.plot(loss_list)\n",
    "plt.legend()\n"
   ],
   "id": "7f6c2e43e9615f23",
   "outputs": [
    {
     "name": "stderr",
     "output_type": "stream",
     "text": [
      "/tmp/ipykernel_313778/3009594393.py:3: UserWarning: No artists with labels found to put in legend.  Note that artists whose label start with an underscore are ignored when legend() is called with no argument.\n",
      "  plt.legend()\n"
     ]
    },
    {
     "data": {
      "text/plain": [
       "<matplotlib.legend.Legend at 0x7f90ac40af80>"
      ]
     },
     "execution_count": 16,
     "metadata": {},
     "output_type": "execute_result"
    },
    {
     "data": {
      "text/plain": [
       "<Figure size 640x480 with 1 Axes>"
      ],
      "image/png": "[encoded data removed]"
     },
     "metadata": {},
     "output_type": "display_data"
    }
   ],
   "execution_count": 16
  },
  {
   "metadata": {},
   "cell_type": "code",
   "outputs": [],
   "execution_count": null,
   "source": "",
   "id": "9e76900484a7fd8d"
  }
 ],
 "metadata": {
  "kernelspec": {
   "display_name": "Python 3",
   "language": "python",
   "name": "python3"
  },
  "language_info": {
   "codemirror_mode": {
    "name": "ipython",
    "version": 2
   },
   "file_extension": ".py",
   "mimetype": "text/x-python",
   "name": "python",
   "nbconvert_exporter": "python",
   "pygments_lexer": "ipython2",
   "version": "2.7.6"
  }
 },
 "nbformat": 4,
 "nbformat_minor": 5
}
