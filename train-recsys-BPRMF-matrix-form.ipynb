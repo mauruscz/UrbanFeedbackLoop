{
 "cells": [
  {
   "metadata": {
    "ExecuteTime": {
     "end_time": "2025-03-20T13:41:46.155089Z",
     "start_time": "2025-03-20T13:41:46.142438Z"
    }
   },
   "cell_type": "code",
   "source": [
    "import sys\n",
    "sys.path.append('/mnt/nas/minici/UrbRecLoop')\n"
   ],
   "id": "9d9a40098f2f36ba",
   "outputs": [],
   "execution_count": 1
  },
  {
   "metadata": {
    "ExecuteTime": {
     "end_time": "2025-03-20T13:41:48.309142Z",
     "start_time": "2025-03-20T13:41:48.302809Z"
    }
   },
   "cell_type": "code",
   "source": "%cd /mnt/nas/minici/UrbRecLoop",
   "id": "f0291105796baa24",
   "outputs": [
    {
     "name": "stdout",
     "output_type": "stream",
     "text": [
      "/mnt/nas/minici/UrbRecLoop\n"
     ]
    },
    {
     "name": "stderr",
     "output_type": "stream",
     "text": [
      "/home/minici/anaconda3/envs/frasson/lib/python3.10/site-packages/IPython/core/magics/osm.py:417: UserWarning: This is now an optional IPython functionality, setting dhist requires you to install the `pickleshare` library.\n",
      "  self.shell.db['dhist'] = compress_dhist(dhist)[-100:]\n"
     ]
    }
   ],
   "execution_count": 2
  },
  {
   "metadata": {
    "collapsed": true,
    "ExecuteTime": {
     "end_time": "2025-03-20T13:41:51.653267Z",
     "start_time": "2025-03-20T13:41:49.142144Z"
    }
   },
   "cell_type": "code",
   "source": [
    "from model.recommender3 import MultiVAE, MatrixFactorization\n",
    "from model import user\n",
    "from datetime import timedelta\n",
    "import glob\n",
    "import tqdm\n",
    "import os\n",
    "import pandas as pd\n",
    "import numpy as np\n",
    "\n",
    "def filtering_training_data(training_dataset, min_activity):\n",
    "    # Count the number of rows per user\n",
    "    user_counts = training_dataset['uid'].value_counts()\n",
    "    # Get the users with at least x rows\n",
    "    valid_users = user_counts[user_counts >= min_activity].index\n",
    "    # Filter the DataFrame to include only valid users\n",
    "    filtered_dataset = training_dataset[training_dataset['uid'].isin(valid_users)]\n",
    "    return filtered_dataset\n",
    "\n",
    "def create_interaction_matrix(data):\n",
    "    interaction_counts = data.groupby(['uid', 'venueID']).size().reset_index(name='counts')\n",
    "    interaction_matrix = interaction_counts.pivot(index='uid', columns='venueID', values='counts').fillna(0)\n",
    "    return interaction_matrix\n",
    "\n",
    "\n",
    "def calculate_metrics(recommended_venues, real_visited_venues):\n",
    "    recommended_venues = list(recommended_venues)\n",
    "    real_visited_venues = set(real_visited_venues)\n",
    "\n",
    "    # Calculate hits\n",
    "    hits = [1 if venue in real_visited_venues else 0 for venue in recommended_venues]\n",
    "\n",
    "    # Precision\n",
    "    precision = sum(hits) / len(recommended_venues) if recommended_venues else 0\n",
    "\n",
    "    # Recall\n",
    "    recall = sum(hits) / len(real_visited_venues) if real_visited_venues else 0\n",
    "\n",
    "    # NDCG\n",
    "    dcg = 0\n",
    "    idcg = 0\n",
    "    for i, hit in enumerate(hits, 1):\n",
    "        if hit:\n",
    "            dcg += 1 / np.log2(i + 1)\n",
    "    for i in range(1, len(real_visited_venues) + 1):\n",
    "        idcg += 1 / np.log2(i + 1)\n",
    "    ndcg = dcg / idcg if idcg > 0 else 0\n",
    "\n",
    "    # MRR\n",
    "    mrr = 0\n",
    "    for i, hit in enumerate(hits, 1):\n",
    "        if hit:\n",
    "            mrr = 1 / i\n",
    "            break\n",
    "\n",
    "    # Hit Rate\n",
    "    hit_rate = 1 if any(hits) else 0\n",
    "\n",
    "    return {\n",
    "        'ndcg': ndcg,\n",
    "        'precision': precision,\n",
    "        'recall': recall,\n",
    "        'mrr': mrr,\n",
    "        'hitrate': hit_rate\n",
    "    }\n"
   ],
   "id": "initial_id",
   "outputs": [],
   "execution_count": 3
  },
  {
   "metadata": {
    "ExecuteTime": {
     "end_time": "2025-03-20T13:41:52.454160Z",
     "start_time": "2025-03-20T13:41:52.449420Z"
    }
   },
   "cell_type": "code",
   "source": [
    "# DATASET HYPER-PARAMETERS #\n",
    "city = \"nyc\"\n",
    "city_files = glob.glob('*_visits.csv')\n",
    "data_file = f\"./data/processed/foursquare_complete_{city}_cp_small.csv\"\n",
    "train_window = 60  # Training window in days\n",
    "k_days = 7  # Epoch length in days\n",
    "threshold = 100  # Performance degradation threshold (adjust as needed)\n",
    "max_simulation_days = 90  # Maximum number of simulation days\n",
    "min_activity = 5  \n",
    "topK = 20\n",
    "\n",
    "# RECSYS HYPER-PARAMETERS #\n",
    "# MF\n",
    "num_latent_factors = 32\n",
    "# UserKNN\n",
    "num_nearest_neighbors = 5\n"
   ],
   "id": "2fb38147296eb9a4",
   "outputs": [],
   "execution_count": 4
  }
 ],
 "metadata": {
  "kernelspec": {
   "display_name": "Python 3",
   "language": "python",
   "name": "python3"
  },
  "language_info": {
   "codemirror_mode": {
    "name": "ipython",
    "version": 2
   },
   "file_extension": ".py",
   "mimetype": "text/x-python",
   "name": "python",
   "nbconvert_exporter": "python",
   "pygments_lexer": "ipython2",
   "version": "2.7.6"
  }
 },
 "nbformat": 4,
 "nbformat_minor": 5
}
